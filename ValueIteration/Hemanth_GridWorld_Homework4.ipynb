{
 "cells": [
  {
   "cell_type": "code",
   "execution_count": 16,
   "id": "05990f20",
   "metadata": {},
   "outputs": [],
   "source": [
    "# This code is written by Hemanth Chebiyam.\n",
    "# Email: hc3746@rit.edu\n",
    "import numpy as np"
   ]
  },
  {
   "cell_type": "code",
   "execution_count": 17,
   "id": "711e5c14",
   "metadata": {},
   "outputs": [],
   "source": [
    "class Gridworld:\n",
    "    def __init__(self):\n",
    "        self.grid_size = 5\n",
    "        self.obstacles = [(2, 2), (3, 2)]\n",
    "        self.water_state = (4, 2)\n",
    "        self.goal_state = (4, 4)\n",
    "        self.actions = ['AU', 'AD', 'AL', 'AR']\n",
    "        self.transition_probs = {'AU': {'AU': 0.8, 'AD': 0.05, 'AL': 0.05, 'AR': 0.1},\n",
    "                                 'AD': {'AU': 0.05, 'AD': 0.8, 'AL': 0.1, 'AR': 0.05},\n",
    "                                 'AL': {'AU': 0.05, 'AD': 0.1, 'AL': 0.8, 'AR': 0.05},\n",
    "                                 'AR': {'AU': 0.1, 'AD': 0.05, 'AL': 0.05, 'AR': 0.8}}\n",
    "        self.rewards = np.zeros((self.grid_size, self.grid_size))\n",
    "        self.rewards[self.water_state] = -10\n",
    "        self.rewards[self.goal_state] = 10\n",
    "\n",
    "    def is_valid_state(self, state):\n",
    "        x, y = state\n",
    "        return 0 <= x < self.grid_size and 0 <= y < self.grid_size and state not in self.obstacles\n",
    "\n",
    "    def transition(self, state, action):\n",
    "        if not self.is_valid_state(state):\n",
    "            return state\n",
    "\n",
    "        if np.random.rand() < 0.1:  # Temporary break\n",
    "            return state\n",
    "\n",
    "        if np.random.rand() < 0.05:  # Confusion - veer right\n",
    "            action = self._veer_right(action)\n",
    "        elif np.random.rand() < 0.05:  # Confusion - veer left\n",
    "            action = self._veer_left(action)\n",
    "\n",
    "        next_state = self._move(state, action)\n",
    "        return next_state if self.is_valid_state(next_state) else state\n",
    "\n",
    "    def _move(self, state, action):\n",
    "        x, y = state\n",
    "        if action == 'AU':\n",
    "            return x - 1, y\n",
    "        elif action == 'AD':\n",
    "            return x + 1, y\n",
    "        elif action == 'AL':\n",
    "            return x, y - 1\n",
    "        elif action == 'AR':\n",
    "            return x, y + 1\n",
    "\n",
    "    def _veer_right(self, action):\n",
    "        if action == 'AU':\n",
    "            return 'AR'\n",
    "        elif action == 'AD':\n",
    "            return 'AL'\n",
    "        elif action == 'AL':\n",
    "            return 'AD'\n",
    "        elif action == 'AR':\n",
    "            return 'AU'\n",
    "\n",
    "\n",
    "    def _veer_left(self, action):\n",
    "        if action == 'AU':\n",
    "            return 'AL'\n",
    "        elif action == 'AD':\n",
    "            return 'AR'\n",
    "        elif action == 'AL':\n",
    "            return 'AU'\n",
    "        elif action == 'AR':\n",
    "            return 'AD'\n",
    "\n"
   ]
  },
  {
   "cell_type": "code",
   "execution_count": 18,
   "id": "651ea93b",
   "metadata": {},
   "outputs": [],
   "source": [
    "class Agent:\n",
    "    def __init__(self, gridworld):\n",
    "        self.gridworld = gridworld\n",
    "\n",
    "    def uniform_random_policy(self, state):\n",
    "        return np.random.choice(self.gridworld.actions)\n",
    "\n",
    "    def discounted_return(self, episode, gamma=0.9):\n",
    "        discounted_rewards = [step[2] * (gamma ** i) for i, step in enumerate(episode)]\n",
    "        return sum(discounted_rewards)\n",
    "\n",
    "    def play_episode(self, policy):\n",
    "        episode = []\n",
    "        state = (0, 0)\n",
    "        while state != self.gridworld.goal_state:\n",
    "            action = policy(state)\n",
    "            next_state = self.gridworld.transition(state, action)\n",
    "            reward = self.gridworld.rewards[next_state]\n",
    "            episode.append((state, action, reward))\n",
    "            state = next_state\n",
    "        return episode\n",
    "\n"
   ]
  },
  {
   "cell_type": "code",
   "execution_count": 19,
   "id": "02474175",
   "metadata": {},
   "outputs": [],
   "source": [
    "def evaluate_policy(policy, num_episodes):\n",
    "    agent = Agent(gridworld)\n",
    "    returns = []\n",
    "    for _ in range(num_episodes):\n",
    "        episode = agent.play_episode(policy)\n",
    "        returns.append(agent.discounted_return(episode))\n",
    "    return returns\n",
    "\n"
   ]
  },
  {
   "cell_type": "code",
   "execution_count": 20,
   "id": "5f40541f",
   "metadata": {},
   "outputs": [],
   "source": [
    "def value_iteration(gridworld, gamma=0.9, epsilon=1e-6):\n",
    "    V = np.zeros((gridworld.grid_size, gridworld.grid_size))\n",
    "    while True:\n",
    "        delta = 0\n",
    "        for i in range(gridworld.grid_size):\n",
    "            for j in range(gridworld.grid_size):\n",
    "                if (i, j) == gridworld.goal_state:\n",
    "                    continue\n",
    "                max_val = -np.inf\n",
    "                for action in gridworld.actions:\n",
    "                    next_state = gridworld.transition((i, j), action)\n",
    "                    reward = gridworld.rewards[next_state]\n",
    "                    val = reward + gamma * V[next_state[0], next_state[1]]\n",
    "                    max_val = max(max_val, val)\n",
    "                delta = max(delta, np.abs(max_val - V[i, j]))\n",
    "                V[i, j] = max_val\n",
    "        if delta < epsilon:\n",
    "            break\n",
    "\n",
    "    optimal_policy = {}\n",
    "    for i in range(gridworld.grid_size):\n",
    "        for j in range(gridworld.grid_size):\n",
    "            if (i, j) == gridworld.goal_state:\n",
    "                continue\n",
    "            max_val = -np.inf\n",
    "            best_action = None\n",
    "            for action in gridworld.actions:\n",
    "                next_state = gridworld.transition((i, j), action)\n",
    "                reward = gridworld.rewards[next_state]\n",
    "                val = reward + gamma * V[next_state[0], next_state[1]]\n",
    "                if val > max_val:\n",
    "                    max_val = val\n",
    "                    best_action = action\n",
    "            optimal_policy[(i, j)] = best_action\n",
    "\n",
    "    return optimal_policy\n",
    "\n"
   ]
  },
  {
   "cell_type": "code",
   "execution_count": 21,
   "id": "a698eda0",
   "metadata": {},
   "outputs": [
    {
     "name": "stdout",
     "output_type": "stream",
     "text": [
      "Task 1 Results:\n",
      "Mean: -0.6063058120673711\n",
      "Standard Deviation: 2.295495381218213\n",
      "Maximum: 4.304672100000001\n",
      "Minimum: -47.01162157647506\n"
     ]
    }
   ],
   "source": [
    "if __name__ == \"__main__\":\n",
    "    gridworld = Gridworld()\n",
    "\n",
    "    # Task 1: Uniform random policy\n",
    "    agent = Agent(gridworld)\n",
    "    random_returns = evaluate_policy(agent.uniform_random_policy, 10000)\n",
    "    print(\"Task 1 Results:\")\n",
    "    print(\"Mean:\", np.mean(random_returns))\n",
    "    print(\"Standard Deviation:\", np.std(random_returns))\n",
    "    print(\"Maximum:\", np.max(random_returns))\n",
    "    print(\"Minimum:\", np.min(random_returns))\n",
    "\n",
    "    "
   ]
  },
  {
   "cell_type": "code",
   "execution_count": 22,
   "id": "26759397",
   "metadata": {},
   "outputs": [
    {
     "name": "stdout",
     "output_type": "stream",
     "text": [
      "\n",
      "Optimal Policy:\n",
      "AD\tAD\tAD\tAD\tAU\t\n",
      "AR\tAR\tAR\tAD\tAD\t\n",
      "AU\tAU\tAU\tAD\tAD\t\n",
      "AU\tAR\tAU\tAD\tAD\t\n",
      "AU\tAU\tAR\tAR\t-\t\n"
     ]
    }
   ],
   "source": [
    "if __name__ == \"__main__\":\n",
    "    gridworld = Gridworld()\n",
    "    # Task 2: Optimal policy using value iteration\n",
    "    optimal_policy = value_iteration(gridworld)\n",
    "    print(\"\\nOptimal Policy:\")\n",
    "    for i in range(gridworld.grid_size):\n",
    "        for j in range(gridworld.grid_size):\n",
    "            if (i, j) in optimal_policy:\n",
    "                print(optimal_policy[(i, j)], end=\"\\t\")\n",
    "            else:\n",
    "                print(\"-\", end=\"\\t\")\n",
    "        print()\n",
    "\n",
    "    "
   ]
  },
  {
   "cell_type": "code",
   "execution_count": 23,
   "id": "b458763b",
   "metadata": {},
   "outputs": [
    {
     "name": "stdout",
     "output_type": "stream",
     "text": [
      "\n",
      "Task 3 Results:\n",
      "Mean: 3.921796074201619\n",
      "Standard Deviation: 0.712729491061633\n",
      "Maximum: 4.7829690000000005\n",
      "Minimum: 0.033813919135227306\n"
     ]
    }
   ],
   "source": [
    "if __name__ == \"__main__\":\n",
    "    gridworld = Gridworld()\n",
    "    # Task 3: Run optimal policy and compare results\n",
    "    optimal_returns = evaluate_policy(lambda s: optimal_policy[s], 10000)\n",
    "    print(\"\\nTask 3 Results:\")\n",
    "    print(\"Mean:\", np.mean(optimal_returns))\n",
    "    print(\"Standard Deviation:\", np.std(optimal_returns))\n",
    "    print(\"Maximum:\", np.max(optimal_returns))\n",
    "    print(\"Minimum:\", np.min(optimal_returns))"
   ]
  },
  {
   "cell_type": "code",
   "execution_count": 24,
   "id": "3ba6b6b2",
   "metadata": {},
   "outputs": [],
   "source": [
    "def visualize_path(gridworld, policy):\n",
    "    state = (0, 0)\n",
    "    total_reward = 0\n",
    "    print(\"Starting at:\", state)\n",
    "    while state != gridworld.goal_state:\n",
    "        action = policy[state]\n",
    "        next_state = gridworld.transition(state, action)\n",
    "        reward = gridworld.rewards[next_state]\n",
    "        total_reward += reward\n",
    "        print(\"Action:\", action, \"| Next state:\", next_state, \"| Reward:\", reward, \"| Total Reward:\", total_reward)\n",
    "        state = next_state\n",
    "    print(\"Reached the goal state with a total reward of:\", total_reward)"
   ]
  },
  {
   "cell_type": "code",
   "execution_count": 25,
   "id": "c4af75ae",
   "metadata": {},
   "outputs": [
    {
     "name": "stdout",
     "output_type": "stream",
     "text": [
      "\n",
      "Following optimal policy to reach the goal state:\n",
      "Starting at: (0, 0)\n",
      "Action: AD | Next state: (0, 0) | Reward: 0.0 | Total Reward: 0.0\n",
      "Action: AD | Next state: (1, 0) | Reward: 0.0 | Total Reward: 0.0\n",
      "Action: AR | Next state: (1, 1) | Reward: 0.0 | Total Reward: 0.0\n",
      "Action: AR | Next state: (1, 2) | Reward: 0.0 | Total Reward: 0.0\n",
      "Action: AR | Next state: (1, 3) | Reward: 0.0 | Total Reward: 0.0\n",
      "Action: AD | Next state: (2, 3) | Reward: 0.0 | Total Reward: 0.0\n",
      "Action: AD | Next state: (3, 3) | Reward: 0.0 | Total Reward: 0.0\n",
      "Action: AD | Next state: (3, 4) | Reward: 0.0 | Total Reward: 0.0\n",
      "Action: AD | Next state: (4, 4) | Reward: 10.0 | Total Reward: 10.0\n",
      "Reached the goal state with a total reward of: 10.0\n"
     ]
    }
   ],
   "source": [
    "if __name__ == \"__main__\":\n",
    "    gridworld = Gridworld()\n",
    "    # Visualize path of the agent following the optimal policy\n",
    "    print(\"\\nFollowing optimal policy to reach the goal state:\")\n",
    "    visualize_path(gridworld, optimal_policy)"
   ]
  },
  {
   "cell_type": "code",
   "execution_count": null,
   "id": "4c638fa8",
   "metadata": {},
   "outputs": [],
   "source": []
  }
 ],
 "metadata": {
  "kernelspec": {
   "display_name": "Python 3",
   "language": "python",
   "name": "python3"
  },
  "language_info": {
   "codemirror_mode": {
    "name": "ipython",
    "version": 3
   },
   "file_extension": ".py",
   "mimetype": "text/x-python",
   "name": "python",
   "nbconvert_exporter": "python",
   "pygments_lexer": "ipython3",
   "version": "3.8.8"
  }
 },
 "nbformat": 4,
 "nbformat_minor": 5
}
